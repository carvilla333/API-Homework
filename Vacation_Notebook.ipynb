{
 "cells": [
  {
   "cell_type": "code",
   "execution_count": 94,
   "metadata": {},
   "outputs": [],
   "source": [
    "# this are all the dependencies we need\n",
    "import matplotlib.pyplot as plt\n",
    "import numpy as np\n",
    "import requests\n",
    "import gmaps\n",
    "import os\n",
    "import json\n",
    "from api_keys import g_key\n",
    "import pandas as pd"
   ]
  },
  {
   "cell_type": "code",
   "execution_count": 95,
   "metadata": {},
   "outputs": [],
   "source": [
    "# let us acess gmaps with the key\n",
    "gmaps.configure(api_key=g_key)"
   ]
  },
  {
   "cell_type": "code",
   "execution_count": 96,
   "metadata": {},
   "outputs": [
    {
     "data": {
      "text/html": [
       "<div>\n",
       "<style scoped>\n",
       "    .dataframe tbody tr th:only-of-type {\n",
       "        vertical-align: middle;\n",
       "    }\n",
       "\n",
       "    .dataframe tbody tr th {\n",
       "        vertical-align: top;\n",
       "    }\n",
       "\n",
       "    .dataframe thead th {\n",
       "        text-align: right;\n",
       "    }\n",
       "</style>\n",
       "<table border=\"1\" class=\"dataframe\">\n",
       "  <thead>\n",
       "    <tr style=\"text-align: right;\">\n",
       "      <th></th>\n",
       "      <th>City</th>\n",
       "      <th>Lat</th>\n",
       "      <th>Lng</th>\n",
       "      <th>Max Temp</th>\n",
       "      <th>Humidity</th>\n",
       "      <th>Cloudiness</th>\n",
       "      <th>Wind Speed</th>\n",
       "      <th>Country</th>\n",
       "      <th>Date</th>\n",
       "    </tr>\n",
       "  </thead>\n",
       "  <tbody>\n",
       "    <tr>\n",
       "      <th>0</th>\n",
       "      <td>Kapoeta</td>\n",
       "      <td>4.7717</td>\n",
       "      <td>33.5903</td>\n",
       "      <td>72.75</td>\n",
       "      <td>59</td>\n",
       "      <td>67</td>\n",
       "      <td>4.85</td>\n",
       "      <td>SS</td>\n",
       "      <td>1627962088</td>\n",
       "    </tr>\n",
       "    <tr>\n",
       "      <th>1</th>\n",
       "      <td>Nueva Granada</td>\n",
       "      <td>9.8017</td>\n",
       "      <td>-74.3930</td>\n",
       "      <td>74.97</td>\n",
       "      <td>93</td>\n",
       "      <td>99</td>\n",
       "      <td>6.22</td>\n",
       "      <td>CO</td>\n",
       "      <td>1627962088</td>\n",
       "    </tr>\n",
       "    <tr>\n",
       "      <th>2</th>\n",
       "      <td>Maroantsetra</td>\n",
       "      <td>-15.4333</td>\n",
       "      <td>49.7333</td>\n",
       "      <td>65.10</td>\n",
       "      <td>87</td>\n",
       "      <td>46</td>\n",
       "      <td>3.53</td>\n",
       "      <td>MG</td>\n",
       "      <td>1627962088</td>\n",
       "    </tr>\n",
       "    <tr>\n",
       "      <th>3</th>\n",
       "      <td>Omboué</td>\n",
       "      <td>-1.5746</td>\n",
       "      <td>9.2618</td>\n",
       "      <td>73.76</td>\n",
       "      <td>89</td>\n",
       "      <td>96</td>\n",
       "      <td>4.21</td>\n",
       "      <td>GA</td>\n",
       "      <td>1627961857</td>\n",
       "    </tr>\n",
       "    <tr>\n",
       "      <th>4</th>\n",
       "      <td>Gornopravdinsk</td>\n",
       "      <td>60.0500</td>\n",
       "      <td>69.9000</td>\n",
       "      <td>57.49</td>\n",
       "      <td>96</td>\n",
       "      <td>100</td>\n",
       "      <td>7.05</td>\n",
       "      <td>RU</td>\n",
       "      <td>1627962089</td>\n",
       "    </tr>\n",
       "  </tbody>\n",
       "</table>\n",
       "</div>"
      ],
      "text/plain": [
       "             City      Lat      Lng  Max Temp  Humidity  Cloudiness  \\\n",
       "0         Kapoeta   4.7717  33.5903     72.75        59          67   \n",
       "1   Nueva Granada   9.8017 -74.3930     74.97        93          99   \n",
       "2    Maroantsetra -15.4333  49.7333     65.10        87          46   \n",
       "3          Omboué  -1.5746   9.2618     73.76        89          96   \n",
       "4  Gornopravdinsk  60.0500  69.9000     57.49        96         100   \n",
       "\n",
       "   Wind Speed Country        Date  \n",
       "0        4.85      SS  1627962088  \n",
       "1        6.22      CO  1627962088  \n",
       "2        3.53      MG  1627962088  \n",
       "3        4.21      GA  1627961857  \n",
       "4        7.05      RU  1627962089  "
      ]
     },
     "execution_count": 96,
     "metadata": {},
     "output_type": "execute_result"
    }
   ],
   "source": [
    "# we are going to bring the data from the step 1 into a dataframe\n",
    "cities_dataframe = pd.read_csv(\"clean_cities_data.csv\")\n",
    "cities_dataframe.head()"
   ]
  },
  {
   "cell_type": "code",
   "execution_count": 97,
   "metadata": {},
   "outputs": [],
   "source": [
    "# we are going to get the latitude and longitude separated\n",
    "coordinates = cities_dataframe[[\"Lat\",\"Lng\"]]"
   ]
  },
  {
   "cell_type": "code",
   "execution_count": 98,
   "metadata": {},
   "outputs": [],
   "source": [
    "# get humidity\n",
    "humidity = cities_dataframe[\"Humidity\"]"
   ]
  },
  {
   "cell_type": "code",
   "execution_count": 99,
   "metadata": {},
   "outputs": [],
   "source": [
    "# get temperature\n",
    "maximum_temperature = cities_dataframe[[\"Max Temp\"]]"
   ]
  },
  {
   "cell_type": "code",
   "execution_count": 100,
   "metadata": {},
   "outputs": [],
   "source": [
    "# we need to create the layout and figure\n",
    "layout = {\n",
    "    'width': '2000px',\n",
    "    'height': '1000px',\n",
    "    'border': '1px solid black',\n",
    "    'padding': '1px',\n",
    "    'margin': '0 auto 0 auto'\n",
    "}\n",
    "figure = gmaps.figure()\n"
   ]
  },
  {
   "cell_type": "code",
   "execution_count": 101,
   "metadata": {},
   "outputs": [],
   "source": [
    "# create the heatmap layout\n",
    "heatmap_layout = gmaps.heatmap_layer(coordinates, weights = humidity,\n",
    "                  dissipating=False, max_intensity=300,\n",
    "                  point_radius=3, opacity = 0.60)\n",
    "markings = gmaps.marker_layer(coordinates)"
   ]
  },
  {
   "cell_type": "code",
   "execution_count": 102,
   "metadata": {},
   "outputs": [
    {
     "data": {
      "application/vnd.jupyter.widget-view+json": {
       "model_id": "d074efdaa30a408f950b8a1ae341255b",
       "version_major": 2,
       "version_minor": 0
      },
      "text/plain": [
       "Figure(layout=FigureLayout(height='420px'))"
      ]
     },
     "metadata": {},
     "output_type": "display_data"
    }
   ],
   "source": [
    "# display the figure\n",
    "figure.add_layer(heatmap_layout)\n",
    "figure"
   ]
  },
  {
   "cell_type": "code",
   "execution_count": 109,
   "metadata": {},
   "outputs": [],
   "source": [
    "# let us reduce the dataframe to fit the following\n",
    "# A max temperature lower than 80 degrees, but higher than 70\n",
    "cities_dataframe_80_70 = (cities_dataframe[\"Max Temp\"] < 80) & (cities_dataframe[\"Max Temp\"] > 70)"
   ]
  },
  {
   "cell_type": "code",
   "execution_count": 137,
   "metadata": {},
   "outputs": [],
   "source": [
    "# Wind speed less than 10 mph\n",
    "cities_wind = cities_dataframe[\"Wind Speed\"] < 10"
   ]
  },
  {
   "cell_type": "code",
   "execution_count": 138,
   "metadata": {
    "scrolled": false
   },
   "outputs": [],
   "source": [
    "# Zero cloudiness\n",
    "cities_cloud = cities_dataframe.Cloudiness == 0\n",
    "# see final dataframe\n",
    "final_dataframe = cities_dataframe_80_70 & cities_wind & cities_cloud"
   ]
  },
  {
   "cell_type": "code",
   "execution_count": 139,
   "metadata": {},
   "outputs": [
    {
     "data": {
      "text/html": [
       "<div>\n",
       "<style scoped>\n",
       "    .dataframe tbody tr th:only-of-type {\n",
       "        vertical-align: middle;\n",
       "    }\n",
       "\n",
       "    .dataframe tbody tr th {\n",
       "        vertical-align: top;\n",
       "    }\n",
       "\n",
       "    .dataframe thead th {\n",
       "        text-align: right;\n",
       "    }\n",
       "</style>\n",
       "<table border=\"1\" class=\"dataframe\">\n",
       "  <thead>\n",
       "    <tr style=\"text-align: right;\">\n",
       "      <th></th>\n",
       "      <th>index</th>\n",
       "      <th>City</th>\n",
       "      <th>Lat</th>\n",
       "      <th>Lng</th>\n",
       "      <th>Max Temp</th>\n",
       "      <th>Humidity</th>\n",
       "      <th>Cloudiness</th>\n",
       "      <th>Wind Speed</th>\n",
       "      <th>Country</th>\n",
       "      <th>Date</th>\n",
       "    </tr>\n",
       "  </thead>\n",
       "  <tbody>\n",
       "    <tr>\n",
       "      <th>0</th>\n",
       "      <td>105</td>\n",
       "      <td>Mitsamiouli</td>\n",
       "      <td>-11.3847</td>\n",
       "      <td>43.2844</td>\n",
       "      <td>75.58</td>\n",
       "      <td>69</td>\n",
       "      <td>0</td>\n",
       "      <td>4.79</td>\n",
       "      <td>KM</td>\n",
       "      <td>1627962117</td>\n",
       "    </tr>\n",
       "    <tr>\n",
       "      <th>1</th>\n",
       "      <td>131</td>\n",
       "      <td>Batagay-Alyta</td>\n",
       "      <td>67.8006</td>\n",
       "      <td>130.4114</td>\n",
       "      <td>73.99</td>\n",
       "      <td>22</td>\n",
       "      <td>0</td>\n",
       "      <td>8.41</td>\n",
       "      <td>RU</td>\n",
       "      <td>1627962125</td>\n",
       "    </tr>\n",
       "    <tr>\n",
       "      <th>2</th>\n",
       "      <td>155</td>\n",
       "      <td>Poum</td>\n",
       "      <td>-20.2333</td>\n",
       "      <td>164.0167</td>\n",
       "      <td>70.36</td>\n",
       "      <td>66</td>\n",
       "      <td>0</td>\n",
       "      <td>9.24</td>\n",
       "      <td>NC</td>\n",
       "      <td>1627962131</td>\n",
       "    </tr>\n",
       "    <tr>\n",
       "      <th>3</th>\n",
       "      <td>200</td>\n",
       "      <td>Boa Vista</td>\n",
       "      <td>2.8197</td>\n",
       "      <td>-60.6733</td>\n",
       "      <td>76.98</td>\n",
       "      <td>88</td>\n",
       "      <td>0</td>\n",
       "      <td>2.30</td>\n",
       "      <td>BR</td>\n",
       "      <td>1627962144</td>\n",
       "    </tr>\n",
       "    <tr>\n",
       "      <th>4</th>\n",
       "      <td>226</td>\n",
       "      <td>Abu Samrah</td>\n",
       "      <td>35.3029</td>\n",
       "      <td>37.1841</td>\n",
       "      <td>79.61</td>\n",
       "      <td>44</td>\n",
       "      <td>0</td>\n",
       "      <td>6.38</td>\n",
       "      <td>SY</td>\n",
       "      <td>1627962152</td>\n",
       "    </tr>\n",
       "  </tbody>\n",
       "</table>\n",
       "</div>"
      ],
      "text/plain": [
       "   index           City      Lat       Lng  Max Temp  Humidity  Cloudiness  \\\n",
       "0    105    Mitsamiouli -11.3847   43.2844     75.58        69           0   \n",
       "1    131  Batagay-Alyta  67.8006  130.4114     73.99        22           0   \n",
       "2    155           Poum -20.2333  164.0167     70.36        66           0   \n",
       "3    200      Boa Vista   2.8197  -60.6733     76.98        88           0   \n",
       "4    226     Abu Samrah  35.3029   37.1841     79.61        44           0   \n",
       "\n",
       "   Wind Speed Country        Date  \n",
       "0        4.79      KM  1627962117  \n",
       "1        8.41      RU  1627962125  \n",
       "2        9.24      NC  1627962131  \n",
       "3        2.30      BR  1627962144  \n",
       "4        6.38      SY  1627962152  "
      ]
     },
     "execution_count": 139,
     "metadata": {},
     "output_type": "execute_result"
    }
   ],
   "source": [
    "# final touches\n",
    "adjusted_dataframe = cities_dataframe[final_dataframe]\n",
    "adjusted_dataframe = adjusted_dataframe.dropna()\n",
    "adjusted_dataframe = adjusted_dataframe.reset_index()\n",
    "adjusted_dataframe.head()"
   ]
  },
  {
   "cell_type": "code",
   "execution_count": 140,
   "metadata": {},
   "outputs": [
    {
     "data": {
      "text/plain": [
       "Index(['index', 'City', 'Lat', 'Lng', 'Max Temp', 'Humidity', 'Cloudiness',\n",
       "       'Wind Speed', 'Country', 'Date'],\n",
       "      dtype='object')"
      ]
     },
     "execution_count": 140,
     "metadata": {},
     "output_type": "execute_result"
    }
   ],
   "source": [
    "adjusted_dataframe.columns"
   ]
  },
  {
   "cell_type": "code",
   "execution_count": 141,
   "metadata": {
    "scrolled": false
   },
   "outputs": [],
   "source": [
    "# we want to find the first hotel near each city within 5000 meters\n",
    "hotel_dataframe_stored = adjusted_dataframe\n",
    "hotel_dataframe_stored[\"Hotel Name\"] = \"\""
   ]
  },
  {
   "cell_type": "code",
   "execution_count": 142,
   "metadata": {},
   "outputs": [
    {
     "name": "stdout",
     "output_type": "stream",
     "text": [
      "Al Camar Lodge\n",
      "Sberbank\n",
      "Hotel Orla do Rio Branco\n",
      "Villa Estet by Anemon Yanıkülke bağ otel\n",
      "Blue Mudanya Hotel\n"
     ]
    },
    {
     "data": {
      "text/html": [
       "<div>\n",
       "<style scoped>\n",
       "    .dataframe tbody tr th:only-of-type {\n",
       "        vertical-align: middle;\n",
       "    }\n",
       "\n",
       "    .dataframe tbody tr th {\n",
       "        vertical-align: top;\n",
       "    }\n",
       "\n",
       "    .dataframe thead th {\n",
       "        text-align: right;\n",
       "    }\n",
       "</style>\n",
       "<table border=\"1\" class=\"dataframe\">\n",
       "  <thead>\n",
       "    <tr style=\"text-align: right;\">\n",
       "      <th></th>\n",
       "      <th>index</th>\n",
       "      <th>City</th>\n",
       "      <th>Lat</th>\n",
       "      <th>Lng</th>\n",
       "      <th>Max Temp</th>\n",
       "      <th>Humidity</th>\n",
       "      <th>Cloudiness</th>\n",
       "      <th>Wind Speed</th>\n",
       "      <th>Country</th>\n",
       "      <th>Date</th>\n",
       "      <th>Hotel Name</th>\n",
       "    </tr>\n",
       "  </thead>\n",
       "  <tbody>\n",
       "    <tr>\n",
       "      <th>0</th>\n",
       "      <td>105</td>\n",
       "      <td>Mitsamiouli</td>\n",
       "      <td>-11.3847</td>\n",
       "      <td>43.2844</td>\n",
       "      <td>75.58</td>\n",
       "      <td>69</td>\n",
       "      <td>0</td>\n",
       "      <td>4.79</td>\n",
       "      <td>KM</td>\n",
       "      <td>1627962117</td>\n",
       "      <td>Al Camar Lodge</td>\n",
       "    </tr>\n",
       "    <tr>\n",
       "      <th>1</th>\n",
       "      <td>131</td>\n",
       "      <td>Batagay-Alyta</td>\n",
       "      <td>67.8006</td>\n",
       "      <td>130.4114</td>\n",
       "      <td>73.99</td>\n",
       "      <td>22</td>\n",
       "      <td>0</td>\n",
       "      <td>8.41</td>\n",
       "      <td>RU</td>\n",
       "      <td>1627962125</td>\n",
       "      <td>Sberbank</td>\n",
       "    </tr>\n",
       "    <tr>\n",
       "      <th>3</th>\n",
       "      <td>200</td>\n",
       "      <td>Boa Vista</td>\n",
       "      <td>2.8197</td>\n",
       "      <td>-60.6733</td>\n",
       "      <td>76.98</td>\n",
       "      <td>88</td>\n",
       "      <td>0</td>\n",
       "      <td>2.30</td>\n",
       "      <td>BR</td>\n",
       "      <td>1627962144</td>\n",
       "      <td>Hotel Orla do Rio Branco</td>\n",
       "    </tr>\n",
       "    <tr>\n",
       "      <th>5</th>\n",
       "      <td>297</td>\n",
       "      <td>Kula</td>\n",
       "      <td>38.5473</td>\n",
       "      <td>28.6498</td>\n",
       "      <td>74.12</td>\n",
       "      <td>31</td>\n",
       "      <td>0</td>\n",
       "      <td>4.00</td>\n",
       "      <td>TR</td>\n",
       "      <td>1627962173</td>\n",
       "      <td>Villa Estet by Anemon Yanıkülke bağ otel</td>\n",
       "    </tr>\n",
       "    <tr>\n",
       "      <th>9</th>\n",
       "      <td>505</td>\n",
       "      <td>Mudanya</td>\n",
       "      <td>40.3753</td>\n",
       "      <td>28.8822</td>\n",
       "      <td>77.09</td>\n",
       "      <td>37</td>\n",
       "      <td>0</td>\n",
       "      <td>4.97</td>\n",
       "      <td>TR</td>\n",
       "      <td>1627962233</td>\n",
       "      <td>Blue Mudanya Hotel</td>\n",
       "    </tr>\n",
       "  </tbody>\n",
       "</table>\n",
       "</div>"
      ],
      "text/plain": [
       "   index           City      Lat       Lng  Max Temp  Humidity  Cloudiness  \\\n",
       "0    105    Mitsamiouli -11.3847   43.2844     75.58        69           0   \n",
       "1    131  Batagay-Alyta  67.8006  130.4114     73.99        22           0   \n",
       "3    200      Boa Vista   2.8197  -60.6733     76.98        88           0   \n",
       "5    297           Kula  38.5473   28.6498     74.12        31           0   \n",
       "9    505        Mudanya  40.3753   28.8822     77.09        37           0   \n",
       "\n",
       "   Wind Speed Country        Date                                Hotel Name  \n",
       "0        4.79      KM  1627962117                            Al Camar Lodge  \n",
       "1        8.41      RU  1627962125                                  Sberbank  \n",
       "3        2.30      BR  1627962144                  Hotel Orla do Rio Branco  \n",
       "5        4.00      TR  1627962173  Villa Estet by Anemon Yanıkülke bağ otel  \n",
       "9        4.97      TR  1627962233                        Blue Mudanya Hotel  "
      ]
     },
     "execution_count": 142,
     "metadata": {},
     "output_type": "execute_result"
    }
   ],
   "source": [
    "base_url = \"https://maps.googleapis.com/maps/api/place/nearbysearch/json\"\n",
    "parameters = {\n",
    "        \"keyword\": \"hotel\",\n",
    "        \"radius\": 5000,\n",
    "        \"types\" : \"hotel\",\n",
    "        \"key\": g_key\n",
    "    }\n",
    "\n",
    "# loop that will find the location based on the coordinates given\n",
    "for index, row in hotel_dataframe_stored.iterrows():\n",
    "    lat = row[\"Lat\"]\n",
    "    lng = row[\"Lng\"]\n",
    "    parameters[\"location\"]=f\"{lat},{lng}\"\n",
    "\n",
    "# creating a request\n",
    "    hoteldata = requests.get(base_url, parameters).json()\n",
    "\n",
    "# this will be our exception  \n",
    "    try:\n",
    "        hotelname= hoteldata[\"results\"][0][\"name\"]\n",
    "        hotel_dataframe_stored.loc[index, \"Hotel Name\"]= hotelname\n",
    "        print(hotelname)     \n",
    "    except:\n",
    "        hotel_dataframe_stored.loc[index,\"Hotel Name\"]= np.nan\n",
    "hotel_dataframe_stored.dropna(inplace=True)\n",
    "# print results        \n",
    "hotel_dataframe_stored"
   ]
  },
  {
   "cell_type": "code",
   "execution_count": 151,
   "metadata": {},
   "outputs": [],
   "source": [
    "# Now we want to plot the hotels on the humidity heatmap with hotel names, city, and country\n",
    "\n",
    "# here we add the hotel marks to the heatmap\n",
    "info_box_template = \"\"\"\n",
    "<dl>\n",
    "<dt>Name</dt><dd>{Hotel Name}</dd>\n",
    "<dt>City</dt><dd>{City}</dd>\n",
    "<dt>Country</dt><dd>{Country}</dd>\n",
    "</dl>\n",
    "\"\"\"\n",
    "# Store the DataFrame Row\n",
    "# NOTE: be sure to update with your DataFrame name\n",
    "hotel_info = [info_box_template.format(**row) for index, row in hotel_dataframe_stored.iterrows()]\n",
    "\n",
    "#Create a map using coordinates to set markers\n",
    "marker_locations = hotel_dataframe_stored[[\"Lat\", \"Lng\"]]"
   ]
  },
  {
   "cell_type": "code",
   "execution_count": 152,
   "metadata": {},
   "outputs": [
    {
     "data": {
      "application/vnd.jupyter.widget-view+json": {
       "model_id": "e2c2d16598104474855cad21f65f68a4",
       "version_major": 2,
       "version_minor": 0
      },
      "text/plain": [
       "Figure(layout=FigureLayout(height='420px'))"
      ]
     },
     "metadata": {},
     "output_type": "display_data"
    }
   ],
   "source": [
    "# Add marker layer for Hotel map\n",
    "figure = gmaps.figure()\n",
    "\n",
    "markings = gmaps.marker_layer(marker_locations, info_box_content = hotel_info)\n",
    "\n",
    "figure.add_layer(heatmap_layout)\n",
    "figure.add_layer(markings)\n",
    "\n",
    "# Display figure\n",
    "figure"
   ]
  },
  {
   "cell_type": "code",
   "execution_count": null,
   "metadata": {},
   "outputs": [],
   "source": []
  }
 ],
 "metadata": {
  "kernelspec": {
   "display_name": "Python 3",
   "language": "python",
   "name": "python3"
  },
  "language_info": {
   "codemirror_mode": {
    "name": "ipython",
    "version": 3
   },
   "file_extension": ".py",
   "mimetype": "text/x-python",
   "name": "python",
   "nbconvert_exporter": "python",
   "pygments_lexer": "ipython3",
   "version": "3.8.5"
  }
 },
 "nbformat": 4,
 "nbformat_minor": 4
}
